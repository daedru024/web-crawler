{
 "cells": [
  {
   "cell_type": "markdown",
   "id": "41cd42d8",
   "metadata": {},
   "source": [
    "### First try"
   ]
  },
  {
   "cell_type": "code",
   "execution_count": 1,
   "id": "3cb38176",
   "metadata": {},
   "outputs": [],
   "source": [
    "import requests"
   ]
  },
  {
   "cell_type": "code",
   "execution_count": null,
   "id": "1829346d",
   "metadata": {},
   "outputs": [],
   "source": [
    "pic = requests.get('https://i.imgur.com/5ItcGN2.jpg')\n",
    "img = pic.content"
   ]
  },
  {
   "cell_type": "code",
   "execution_count": 7,
   "id": "d8f8f874",
   "metadata": {},
   "outputs": [],
   "source": [
    "img_out = open('image.jpg', 'wb')\n",
    "img_out.write(img)\n",
    "img_out.close()"
   ]
  },
  {
   "cell_type": "markdown",
   "id": "19a61384",
   "metadata": {},
   "source": [
    "### Download more pics"
   ]
  },
  {
   "cell_type": "code",
   "execution_count": 1,
   "id": "17dce206",
   "metadata": {},
   "outputs": [],
   "source": [
    "import requests\n",
    "import json\n",
    "from bs4 import BeautifulSoup as bs"
   ]
  },
  {
   "cell_type": "code",
   "execution_count": 2,
   "id": "b27eb547",
   "metadata": {},
   "outputs": [],
   "source": [
    "url = requests.get(\"https://wintersparkliang.fg.tp.edu.tw/index.html\")\n",
    "print(url.text)"
   ]
  },
  {
   "cell_type": "code",
   "execution_count": 3,
   "id": "ea06f1d5",
   "metadata": {},
   "outputs": [],
   "source": [
    "soup = bs(url.text,\"html.parser\")\n",
    "sel = soup.select(\"span.image img\")"
   ]
  },
  {
   "cell_type": "code",
   "execution_count": 7,
   "id": "e3aba9c7",
   "metadata": {},
   "outputs": [],
   "source": [
    "q = 0\n",
    "for c in sel:\n",
    "    q += 1\n",
    "    pic=requests.get(\"https://wintersparkliang.fg.tp.edu.tw/\"+c['src'])\n",
    "    img2 = pic.content\n",
    "    pic_out = open(\"/Users/user/desktop/\"+str(q)+\".png\",'wb')\n",
    "    pic_out.write(img2)\n",
    "    pic_out.close()"
   ]
  },
  {
   "cell_type": "code",
   "execution_count": 8,
   "id": "2faf13fb",
   "metadata": {},
   "outputs": [],
   "source": [
    "url.close()"
   ]
  },
  {
   "cell_type": "code",
   "execution_count": null,
   "id": "343eda7f",
   "metadata": {},
   "outputs": [],
   "source": []
  }
 ],
 "metadata": {
  "kernelspec": {
   "display_name": "Python 3 (ipykernel)",
   "language": "python",
   "name": "python3"
  },
  "language_info": {
   "codemirror_mode": {
    "name": "ipython",
    "version": 3
   },
   "file_extension": ".py",
   "mimetype": "text/x-python",
   "name": "python",
   "nbconvert_exporter": "python",
   "pygments_lexer": "ipython3",
   "version": "3.9.16"
  }
 },
 "nbformat": 4,
 "nbformat_minor": 5
}
