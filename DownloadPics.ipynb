{
 "cells": [
  {
   "cell_type": "markdown",
   "id": "41cd42d8",
   "metadata": {},
   "source": [
    "### First try"
   ]
  },
  {
   "cell_type": "code",
   "execution_count": 1,
   "id": "3cb38176",
   "metadata": {},
   "outputs": [],
   "source": [
    "import requests"
   ]
  },
  {
   "cell_type": "code",
   "execution_count": null,
   "id": "1829346d",
   "metadata": {},
   "outputs": [],
   "source": [
    "pic = requests.get('https://i.imgur.com/5ItcGN2.jpg')\n",
    "img = pic.content"
   ]
  },
  {
   "cell_type": "code",
   "execution_count": 7,
   "id": "d8f8f874",
   "metadata": {},
   "outputs": [],
   "source": [
    "img_out = open('image.jpg', 'wb')\n",
    "img_out.write(img)\n",
    "img_out.close()"
   ]
  },
  {
   "cell_type": "markdown",
   "id": "19a61384",
   "metadata": {},
   "source": [
    "### Download more pics"
   ]
  },
  {
   "cell_type": "code",
   "execution_count": 1,
   "id": "17dce206",
   "metadata": {},
   "outputs": [],
   "source": [
    "import requests\n",
    "import json\n",
    "from bs4 import BeautifulSoup as bs"
   ]
  },
  {
   "cell_type": "code",
   "execution_count": 2,
   "id": "b27eb547",
   "metadata": {
    "scrolled": true
   },
   "outputs": [
    {
     "name": "stdout",
     "output_type": "stream",
     "text": [
      "<!DOCTYPE HTML>\r\n",
      "<!--\r\n",
      "\tPhantom by HTML5 UP\r\n",
      "\thtml5up.net | @ajlkn\r\n",
      "\tFree for personal and commercial use under the CCA 3.0 license (html5up.net/license)\r\n",
      "-->\r\n",
      "<html>\r\n",
      "\t<head>\r\n",
      "\t\t<title>åä¸å¥³ä¸­ç¬¬37å±æ¸çè³åªç­ææç¼è¡¨ WINter Rain and SparkLIANG Stars</title>\r\n",
      "\t\t<meta charset=\"utf-8\" />\r\n",
      "\t\t<meta name=\"viewport\" content=\"width=device-width, initial-scale=1, user-scalable=no\" />\r\n",
      "\t\t<link rel=\"stylesheet\" href=\"home/home.css\" />\r\n",
      "\t\t<noscript><link rel=\"stylesheet\" href=\"home/home_noscript.css\" /></noscript>\r\n",
      "\t\t<link rel=\"icon\" href=\"title.ico\" type=\"image/x-icon\" / >\r\n",
      "\t\t<link rel=\"shortcut icon\" href=\"title.ico\" type=\"image/x-icon\" / >\r\n",
      "\t</head>\r\n",
      "\t<body class=\"is-preload\">\r\n",
      "\t\t<!-- Wrapper -->\r\n",
      "\t\t\t<div id=\"wrapper\">\r\n",
      "\r\n",
      "\t\t\t\t<!-- Header -->\r\n",
      "\t\t\t\t\t<header id=\"header\" style=\"padding-top:3em;\">\r\n",
      "\t\t\t\t\t\t<div class=\"inner\">\r\n",
      "\r\n",
      "\t\t\t\t\t\t\t<!-- Logo -->\r\n",
      "\t\t\t\t\t\t\t\t<a href=\"index.html\" class=\"logo\">\r\n",
      "\t\t\t\t\t\t\t\t\t<span class=\"symbol\"><img src=\"icon.png\" alt=\"\" /></span><span class=\"title\">WIN & Liang</span>\r\n",
      "\t\t\t\t\t\t\t\t</a>\r\n",
      "\r\n",
      "\t\t\t\t\t\t\t<!-- Nav -->\r\n",
      "\t\t\t\t\t\t\t\t<nav>\r\n",
      "\t\t\t\t\t\t\t\t\t<ul>\r\n",
      "\t\t\t\t\t\t\t\t\t\t<li><a href=\"#menu\">Menu</a></li>\r\n",
      "\t\t\t\t\t\t\t\t\t</ul>\r\n",
      "\t\t\t\t\t\t\t\t</nav>\r\n",
      "\r\n",
      "\t\t\t\t\t\t</div>\r\n",
      "\t\t\t\t\t</header>\r\n",
      "\r\n",
      "\t\t\t\t<!-- Menu -->\r\n",
      "\t\t\t\t\t<nav id=\"menu\">\r\n",
      "\t\t\t\t\t\t<h2>Menu</h2>\r\n",
      "\t\t\t\t\t\t<ul>\r\n",
      "\t\t\t\t\t\t\t<li><a href=\"index.html\">é¦é </a></li>\r\n",
      "\t\t\t\t\t\t\t<li><a href=\"about/about.html\">éæ¼</a></li>\r\n",
      "\t\t\t\t\t\t\t<li><a href=\"schedule/schedule.html\">è¡ç¨è¡¨</a></li>\r\n",
      "\t\t\t\t\t\t\t<li><a href=\"mv/mv.html\">æç¼MV</a></li>\r\n",
      "\t\t\t\t\t\t\t<li><a href=\"math/math.html\">æ¸å­¸å°é¡</a></li>\r\n",
      "\t\t\t\t\t\t\t<li><a href=\"physics/physics.html\">ç©çå°é¡</a></li>\r\n",
      "\t\t\t\t\t\t\t<li><a href=\"chemistry/chemistry.html\">åå­¸å°é¡</a></li>\r\n",
      "\t\t\t\t\t\t\t<li><a href=\"biology/biology.html\">çç©å°é¡</a></li>\r\n",
      "\t\t\t\t\t\t\t<li><a href=\"earth/earth.html\">å°çç§å­¸å°é¡</a></li>\r\n",
      "\t\t\t\t\t\t\t<li><a href=\"computer/computer.html\">è³è¨å°é¡</a></li>\r\n",
      "\t\t\t\t\t\t</ul>\r\n",
      "\t\t\t\t\t</nav>\r\n",
      "\r\n",
      "\t\t\t\t<!-- Main -->\r\n",
      "\t\t\t\t\t<div id=\"main\">\r\n",
      "\t\t\t\t\t\t<div class=\"inner\">\r\n",
      "\t\t\t\t\t\t\t<header>\r\n",
      "\t\t\t\t\t\t\t\t<h1 style=\"margin-bottom: 0;\">åä¸å¥³ä¸­ç¬¬37å±æ¸çè³åªç­ææç¼è¡¨</h1>\r\n",
      "\t\t\t\t\t\t\t\t<h1>WINter Rain and SparkLIANG Stars</h1>\r\n",
      "\t\t\t\t\t\t\t\t<hr style=\"margin-top: 0em;\">\r\n",
      "\t\t\t\t\t\t\t\t<p>ðªæ¥æï¼ð®ð¬ð®ð¯/ð±/ð®ðµ<br>ðæéï¼ð­ð¯:ð¯ð¬ï½ð­ð²:ð°ð¬<br>âï¸å°é»ï¼å­¸ç å",
      "­æ¨æè­°å»³ãä¸æ¨å±å ´</p>\r\n",
      "\t\t\t\t\t\t\t</header>\r\n",
      "\t\t\t\t\t\t\t<section class=\"tiles\">\r\n",
      "\t\t\t\t\t\t\t\t<article class=\"style2\">\r\n",
      "\t\t\t\t\t\t\t\t\t<span class=\"image\">\r\n",
      "\t\t\t\t\t\t\t\t\t\t<img src=\"home/image/about.jpg\" alt=\"\" />\r\n",
      "\t\t\t\t\t\t\t\t\t</span>\r\n",
      "\t\t\t\t\t\t\t\t\t<a href=\"about/about.html\">\r\n",
      "\t\t\t\t\t\t\t\t\t\t<h2>About</h2>\r\n",
      "\t\t\t\t\t\t\t\t\t\t<div class=\"content\">\r\n",
      "\t\t\t\t\t\t\t\t\t\t\t<p style=\"text-align:left;background-color: #96969660;border-radius: 0.5em;width: fit-content;margin: auto;padding: 0.5em;margin: auto;\"><b>å</b>æ¥µææå¼ å°ç æ¹åçç¾",
      "ç¤<br><b>ä¸</b>ç¥å­¸ç æ¨è£¡ æµ·å ±åèæº«èè¯<br><b>æ¸</b>èé¢æç¼å©ä¸çæ¥å­<br><b>è³</b>æå¤¾å",
      "§ è­ä¸å®çå",
      "¬å¼<br><b>æ</b>é·éç¨ä¸æ¿æ¿ç´°é¨<br><b>ç¼</b>ç¾èåµæ° åä»äººçå</p>\r\n",
      "\t\t\t\t\t\t\t\t\t\t</div>\r\n",
      "\t\t\t\t\t\t\t\t\t</a>\r\n",
      "\t\t\t\t\t\t\t\t</article>\r\n",
      "\t\t\t\t\t\t\t\t<article class=\"style2\">\r\n",
      "\t\t\t\t\t\t\t\t\t<span class=\"image\">\r\n",
      "\t\t\t\t\t\t\t\t\t\t<img src=\"home/image/schedule.jpg\" alt=\"\" />\r\n",
      "\t\t\t\t\t\t\t\t\t</span>\r\n",
      "\t\t\t\t\t\t\t\t\t<a href=\"schedule/schedule.html\">\r\n",
      "\t\t\t\t\t\t\t\t\t\t<h2>Schedule</h2>\r\n",
      "\t\t\t\t\t\t\t\t\t\t<div class=\"content\">\r\n",
      "\t\t\t\t\t\t\t\t\t\t\t<p style=\"text-align:left;background-color: #96969660;border-radius: 0.5em;width: fit-content;margin: auto;padding: 0.5em;margin: auto;\"><b>W</b>inning in life starts with learning,<br><b>I</b>nquisitive minds forever yearning,<br><b>N</b>ew knowledge gained with each new day,<br><b>L</b>ifelong learners never stray.<br><b>I</b>nnovation comes from curious minds,<br><b>A</b>sking questions, always seeking to find,<br><b>N</b>ew ideas, new ways to grow,<br><b>G</b>rowing wiser as we go.</p>\r\n",
      "\t\t\t\t\t\t\t\t\t\t</div>\r\n",
      "\t\t\t\t\t\t\t\t\t</a>\r\n",
      "\t\t\t\t\t\t\t\t</article>\r\n",
      "\t\t\t\t\t\t\t\t<article class=\"style3\">\r\n",
      "\t\t\t\t\t\t\t\t\t<span class=\"image\">\r\n",
      "\t\t\t\t\t\t\t\t\t\t<img src=\"home/image/mv.jpg\" alt=\"\" />\r\n",
      "\t\t\t\t\t\t\t\t\t</span>\r\n",
      "\t\t\t\t\t\t\t\t\t<a href=\"mv/mv.html\">\r\n",
      "\t\t\t\t\t\t\t\t\t\t<h2>MVãææ¤ã</h2>\r\n",
      "\t\t\t\t\t\t\t\t\t\t<div class=\"content\">\r\n",
      "\t\t\t\t\t\t\t\t\t\t\t<p style=\"text-align:left;background-color: #96969660;border-radius: 0.5em;width: fit-content;margin: auto;padding: 0.5em;margin: auto;\"><b>æ</b>æ¢¢ä¸é ç¼çç¨çæå",
      "<br><b>æ¤</b>æ¥èè¢«é¨çµ²æ·èä¸å¢</p>\r\n",
      "\t\t\t\t\t\t\t\t\t\t</div>\r\n",
      "\t\t\t\t\t\t\t\t\t</a>\r\n",
      "\t\t\t\t\t\t\t\t</article>\r\n",
      "\t\t\t\t\t\t\t\t<article class=\"style2\">\r\n",
      "\t\t\t\t\t\t\t\t\t<span class=\"image\">\r\n",
      "\t\t\t\t\t\t\t\t\t\t<img src=\"home/image/math.jpg\" alt=\"\" />\r\n",
      "\t\t\t\t\t\t\t\t\t</span>\r\n",
      "\t\t\t\t\t\t\t\t\t<a href=\"math/math.html\">\r\n",
      "\t\t\t\t\t\t\t\t\t\t<h2>Math</h2>\r\n",
      "\t\t\t\t\t\t\t\t\t\t<div class=\"content\">\r\n",
      "\t\t\t\t\t\t\t\t\t\t\t<p style=\"margin-bottom: 0.5em;background-color: #A6998F70;border-radius: 0.5em;width: fit-content;margin: auto;padding: 0.5em;\"><b>æ¸</b>å°äººæ¸å¤§çç¸<br><b>å­¸</b>ä»¥è´ç¨æç¸¾ä½³<br><b>å»</b>ç¬åµé¬§éæä¾<br><b>å</b>åååååå</p>\r\n",
      "\t\t\t\t\t\t\t\t\t\t\t<p style=\"font-size: 0.7em;text-align: left;margin: auto;margin-top: 0.5em;background-color: #A6998F70;border-radius: 0.5em;width: fit-content;padding: 0.5em;\"><b>M</b>ystery unfolds as we dive deep into math,<br><b>A</b>bstract concepts lead us down the path,<br><b>T</b>heories and proofs that light up our path,<br><b>H</b>ere in the world of research, we're never out of gas.</p>\r\n",
      "\t\t\t\t\t\t\t\t\t\t</div>\r\n",
      "\t\t\t\t\t\t\t\t\t</a>\r\n",
      "\t\t\t\t\t\t\t\t</article>\r\n",
      "\t\t\t\t\t\t\t\t<article class=\"style3\">\r\n",
      "\t\t\t\t\t\t\t\t\t<span class=\"image\">\r\n",
      "\t\t\t\t\t\t\t\t\t\t<img src=\"home/image/physics.jpg\" alt=\"\" />\r\n",
      "\t\t\t\t\t\t\t\t\t</span>\r\n",
      "\t\t\t\t\t\t\t\t\t<a href=\"physics/physics.html\">\r\n",
      "\t\t\t\t\t\t\t\t\t\t<h2>Physics</h2>\r\n",
      "\t\t\t\t\t\t\t\t\t\t<div class=\"content\" style=\"background-color: #8180A660;border-radius: 0.5em;width: fit-content;padding: 0.5em;\">\r\n",
      "\t\t\t\t\t\t\t\t\t\t\t<p><b>ç©</b>çå°ç æå°çª©<br><b>ç</b>è«å¯¦é©å",
      "©ä¸é¢<br><b>å°</b>é¡ç ç©¶æ¢æªç¥<br><b>ç </b>ç¼æè¡æå°ç</p>\r\n",
      "\t\t\t\t\t\t\t\t\t\t</div>\r\n",
      "\t\t\t\t\t\t\t\t\t</a>\r\n",
      "\t\t\t\t\t\t\t\t</article>\r\n",
      "\t\t\t\t\t\t\t\t<article class=\"style1\">\r\n",
      "\t\t\t\t\t\t\t\t\t<span class=\"image\">\r\n",
      "\t\t\t\t\t\t\t\t\t\t<img src=\"home/image/chemistry.jpg\" alt=\"\" />\r\n",
      "\t\t\t\t\t\t\t\t\t</span>\r\n",
      "\t\t\t\t\t\t\t\t\t<a href=\"chemistry/chemistry.html\">\r\n",
      "\t\t\t\t\t\t\t\t\t\t<h2>Chemistry</h2>\r\n",
      "\t\t\t\t\t\t\t\t\t\t<div class=\"content\" style=\"background-color: #7F878760;border-radius: 0.5em;width: fit-content;padding: 0.5em;\">\r\n",
      "\t\t\t\t\t\t\t\t\t\t\t<p><b>å</b>è§£åé¡ææç<br><b>å­¸</b>è¡äº¤æµç¡éé¡<br><b>å°</b>ä¸è´å¿å°çç¸<br><b>é¡</b>æå¤å",
      "ææ¢ç©¶</p>\r\n",
      "\t\t\t\t\t\t\t\t\t\t</div>\r\n",
      "\t\t\t\t\t\t\t\t\t</a>\r\n",
      "\t\t\t\t\t\t\t\t</article>\r\n",
      "\t\t\t\t\t\t\t\t<article class=\"style5\">\r\n",
      "\t\t\t\t\t\t\t\t\t<span class=\"image\">\r\n",
      "\t\t\t\t\t\t\t\t\t\t<img src=\"home/image/biology.jpg\" alt=\"\" />\r\n",
      "\t\t\t\t\t\t\t\t\t</span>\r\n",
      "\t\t\t\t\t\t\t\t\t<a href=\"biology/biology.html\">\r\n",
      "\t\t\t\t\t\t\t\t\t\t<h2>Biology</h2>\r\n",
      "\t\t\t\t\t\t\t\t\t\t<div class=\"content\">\r\n",
      "\t\t\t\t\t\t\t\t\t\t\t<p style=\"text-align:left;width: fit-content;margin: auto;background-color: #DBA2AD60;padding: 0.5em;border-radius: 0.5em;\"><b>ç</b>æ©çç¶ æ¯æåçå½¢å®¹è©<br><b>ç©</b>ææç§» æå¾èª°è½æ´»ä¸ä¾ï¼<br><b>å°</b>å¿è´å¿ çæ",
      "åæ¯å",
      "¨ä¸ç<br><b>ç </b>ç©¶çè·¯ æ°¸é æä½ æè·é¨ï¼</p>\r\n",
      "\t\t\t\t\t\t\t\t\t\t</div>\r\n",
      "\t\t\t\t\t\t\t\t\t</a>\r\n",
      "\t\t\t\t\t\t\t\t</article>\r\n",
      "\t\t\t\t\t\t\t\t<article class=\"style6\">\r\n",
      "\t\t\t\t\t\t\t\t\t<span class=\"image\">\r\n",
      "\t\t\t\t\t\t\t\t\t\t<img src=\"home/image/earth.jpg\" alt=\"\" />\r\n",
      "\t\t\t\t\t\t\t\t\t</span>\r\n",
      "\t\t\t\t\t\t\t\t\t<a href=\"earth/earth.html\">\r\n",
      "\t\t\t\t\t\t\t\t\t\t<h2>Earth Science</h2>\r\n",
      "\t\t\t\t\t\t\t\t\t\t<div class=\"content\" style=\"background-color: #555C7360;border-radius: 0.5em;width: fit-content;padding: 0.5em;\">\r\n",
      "\t\t\t\t\t\t\t\t\t\t\t<p><b>å°</b>çæåç¢³è¶³è·¡ä¾ç¤ºè­¦<br><b>ç§</b>å­¸é²å±ç±é»æ´å¯ç²¾é²<br><b>å°</b>æ»æç³»æè¶",
      "æ°æçç¼<br><b>ç </b>ç©¶éç¨é¿èå¸«å",
      "¨ç¨éª</p>\r\n",
      "\t\t\t\t\t\t\t\t\t\t</div>\r\n",
      "\t\t\t\t\t\t\t\t\t</a>\r\n",
      "\t\t\t\t\t\t\t\t</article>\r\n",
      "\t\t\t\t\t\t\t\t<article class=\"style4\">\r\n",
      "\t\t\t\t\t\t\t\t\t<span class=\"image\">\r\n",
      "\t\t\t\t\t\t\t\t\t\t<img src=\"home/image/computer.jpg\" alt=\"\" />\r\n",
      "\t\t\t\t\t\t\t\t\t</span>\r\n",
      "\t\t\t\t\t\t\t\t\t<a href=\"computer/computer.html\">\r\n",
      "\t\t\t\t\t\t\t\t\t\t<h2>Computer Science</h2>\r\n",
      "\t\t\t\t\t\t\t\t\t\t<div class=\"content\">\r\n",
      "\t\t\t\t\t\t\t\t\t\t\t<p style=\"text-align: left;width: fit-content;margin: auto;background-color: #B8B6A760;padding: 0.5em;border-radius: 0.5em;\"><b>A</b>PI and programs<br><b>N</b>ever stop running till sun's first ray<br><b>N</b>ight to dawn, we type out code<br><b>Y</b>et bugs still eat them away</p>\r\n",
      "\t\t\t\t\t\t\t\t\t\t</div>\r\n",
      "\t\t\t\t\t\t\t\t\t</a>\r\n",
      "\t\t\t\t\t\t\t\t</article>\r\n",
      "\t\t\t\t\t\t\t</section>\r\n",
      "\t\t\t\t\t\t</div>\r\n",
      "\t\t\t\t\t</div>\r\n",
      "\r\n",
      "\t\t\t\t<!-- Footer -->\r\n",
      "\t\t\t\t\t<footer id=\"footer\">\r\n",
      "\t\t\t\t\t\t<div class=\"inner\">\r\n",
      "\t\t\t\t\t\t\t<section>\r\n",
      "\t\t\t\t\t\t\t\t<h2>Follow us on <a href=\"https://www.instagram.com/winter.sparkliang_37/\">Instagram</a></h2>\r\n",
      "\t\t\t\t\t\t\t</section>\r\n",
      "\t\t\t\t\t\t\t<ul class=\"copyright\">\r\n",
      "\t\t\t\t\t\t\t\t<li>&copy; Untitled. All rights reserved</li><li>Design: <a href=\"http://html5up.net\">HTML5 UP</a></li>\r\n",
      "\t\t\t\t\t\t\t</ul>\r\n",
      "\t\t\t\t\t\t</div>\r\n",
      "\t\t\t\t\t</footer>\r\n",
      "\r\n",
      "\t\t\t</div>\r\n",
      "\r\n",
      "\t\t<!-- Scripts -->\r\n",
      "\t\t\t<script src=\"home/home_jquery.min.js\"></script>\r\n",
      "\t\t\t<script src=\"home/home_browser.min.js\"></script>\r\n",
      "\t\t\t<script src=\"home/home_breakpoints.min.js\"></script>\r\n",
      "\t\t\t<script src=\"home/home_util.js\"></script>\r\n",
      "\t\t\t<script src=\"home/home.js\"></script>\r\n",
      "\r\n",
      "\t</body>\r\n",
      "</html>\n"
     ]
    }
   ],
   "source": [
    "url = requests.get(\"https://wintersparkliang.fg.tp.edu.tw/index.html\")\n",
    "print(url.text)"
   ]
  },
  {
   "cell_type": "code",
   "execution_count": 3,
   "id": "ea06f1d5",
   "metadata": {},
   "outputs": [],
   "source": [
    "soup = bs(url.text,\"html.parser\")\n",
    "sel = soup.select(\"span.image img\")"
   ]
  },
  {
   "cell_type": "code",
   "execution_count": 7,
   "id": "e3aba9c7",
   "metadata": {},
   "outputs": [],
   "source": [
    "q = 0\n",
    "for c in sel:\n",
    "    q += 1\n",
    "    pic=requests.get(\"https://wintersparkliang.fg.tp.edu.tw/\"+c['src'])\n",
    "    img2 = pic.content\n",
    "    pic_out = open(\"/Users/patricia/desktop/\"+str(q)+\".png\",'wb')\n",
    "    pic_out.write(img2)\n",
    "    pic_out.close()"
   ]
  },
  {
   "cell_type": "code",
   "execution_count": 8,
   "id": "2faf13fb",
   "metadata": {},
   "outputs": [],
   "source": [
    "url.close()"
   ]
  },
  {
   "cell_type": "code",
   "execution_count": null,
   "id": "343eda7f",
   "metadata": {},
   "outputs": [],
   "source": []
  }
 ],
 "metadata": {
  "kernelspec": {
   "display_name": "Python 3 (ipykernel)",
   "language": "python",
   "name": "python3"
  },
  "language_info": {
   "codemirror_mode": {
    "name": "ipython",
    "version": 3
   },
   "file_extension": ".py",
   "mimetype": "text/x-python",
   "name": "python",
   "nbconvert_exporter": "python",
   "pygments_lexer": "ipython3",
   "version": "3.9.16"
  }
 },
 "nbformat": 4,
 "nbformat_minor": 5
}
