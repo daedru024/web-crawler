{
 "cells": [
  {
   "cell_type": "code",
   "execution_count": 2,
   "id": "3c15db20",
   "metadata": {},
   "outputs": [],
   "source": [
    "import requests\n",
    "from bs4 import BeautifulSoup as bs"
   ]
  },
  {
   "cell_type": "code",
   "execution_count": null,
   "id": "e7017e5c",
   "metadata": {
    "scrolled": true
   },
   "outputs": [],
   "source": [
    "url = \"https://www.ptt.cc/bbs/MobileComm/index.html\"\n",
    "for i in range(3):\n",
    "    r = requests.get(url)\n",
    "    soup = bs(r.text, \"html.parser\")\n",
    "    sel = soup.select(\"div.title a\")\n",
    "    for s in sel:\n",
    "        print(s.text, \"https://www.ptt.cc\" + s[\"href\"])\n",
    "    u = soup.select(\"div.btn-group.btn-group-paging a\")[1][\"href\"]\n",
    "    url = \"https://www.ptt.cc\" + u\n",
    "    print(url)"
   ]
  },
  {
   "cell_type": "code",
   "execution_count": null,
   "id": "46de55f9",
   "metadata": {},
   "outputs": [],
   "source": [
    "import requests\n",
    "r = requests.Session()\n",
    "\n",
    "payload = {\n",
    "    \"from\":\"/bbs/Gossiping/index.html\",\n",
    "    \"yes\":\"yes\"\n",
    "}\n",
    "\n",
    "r1 = r.post(\"https://www.ptt.cc/ask/over18?from=%2Fbbs%2FGossiping%2Findex.html\",payload)\n",
    "r2 = r.get(\"https://www.ptt.cc/bbs/Gossiping/index.html\")\n",
    "print(r2.text)"
   ]
  },
  {
   "cell_type": "code",
   "execution_count": null,
   "id": "b64ad418",
   "metadata": {},
   "outputs": [],
   "source": []
  }
 ],
 "metadata": {
  "kernelspec": {
   "display_name": "Python 3 (ipykernel)",
   "language": "python",
   "name": "python3"
  },
  "language_info": {
   "codemirror_mode": {
    "name": "ipython",
    "version": 3
   },
   "file_extension": ".py",
   "mimetype": "text/x-python",
   "name": "python",
   "nbconvert_exporter": "python",
   "pygments_lexer": "ipython3",
   "version": "3.9.16"
  }
 },
 "nbformat": 4,
 "nbformat_minor": 5
}
